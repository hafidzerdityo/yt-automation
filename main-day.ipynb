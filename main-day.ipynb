{
 "cells": [
  {
   "cell_type": "code",
   "execution_count": 54,
   "id": "189ca37d",
   "metadata": {},
   "outputs": [],
   "source": [
    "from dotenv import load_dotenv\n",
    "import os\n",
    "\n",
    "load_dotenv()\n",
    "\n",
    "TELE_TOKEN = os.getenv(\"TELE_TOKEN\")\n",
    "YT_BUILD_TOKEN = os.getenv(\"YT_BUILD_TOKEN\")"
   ]
  },
  {
   "cell_type": "markdown",
   "id": "crucial-galaxy",
   "metadata": {},
   "source": [
    "### Take all video from last 7 days"
   ]
  },
  {
   "cell_type": "code",
   "execution_count": 51,
   "id": "1d3128c7",
   "metadata": {},
   "outputs": [],
   "source": [
    "def bot_msg_hafidz(text):\n",
    "    import requests\n",
    "    url = f\"https://api.telegram.org/bot{TELE_TOKEN}/sendMessage\"\n",
    "\n",
    "    payload = {\n",
    "        \"text\": '[LOCAL] ' + text,\n",
    "        \"disable_web_page_preview\": False,\n",
    "        \"disable_notification\": False,\n",
    "        \"reply_to_message_id\": None,\n",
    "        \"chat_id\": \"1908911926\"\n",
    "    }\n",
    "    headers = {\n",
    "        \"Accept\": \"application/json\",\n",
    "        \"Content-Type\": \"application/json\"\n",
    "    }\n",
    "\n",
    "    response = requests.request(\"POST\", url, json=payload, headers=headers)"
   ]
  },
  {
   "cell_type": "code",
   "execution_count": 16,
   "id": "postal-channels",
   "metadata": {
    "ExecuteTime": {
     "start_time": "2022-04-15T05:47:39.944Z"
    }
   },
   "outputs": [],
   "source": [
    "from selenium import webdriver\n",
    "from selenium.webdriver.chrome.service import Service\n",
    "import pandas as pd\n",
    "ser = Service(\"C:\\Program Files (x86)\\chromedriver.exe\")\n",
    "op = webdriver.ChromeOptions()\n",
    "driver = webdriver.Chrome(service=ser, options=op)"
   ]
  },
  {
   "cell_type": "code",
   "execution_count": 17,
   "id": "returning-trout",
   "metadata": {
    "ExecuteTime": {
     "start_time": "2022-04-15T05:47:40.365Z"
    }
   },
   "outputs": [],
   "source": [
    "links = []\n",
    "channel_name = []"
   ]
  },
  {
   "cell_type": "code",
   "execution_count": 18,
   "id": "southern-running",
   "metadata": {
    "ExecuteTime": {
     "start_time": "2022-04-15T05:47:40.886Z"
    }
   },
   "outputs": [],
   "source": [
    "# days_list = []\n",
    "# for i in range(6,14):\n",
    "#     days_list.append(f'{i} days ago')\n",
    "# for i in range(2,4):\n",
    "#     days_list.append(f'{i} weeks ago')\n",
    "# days_list.append('1 month ago')\n",
    "# days_list.append('2 months ago')\n",
    "# days_list"
   ]
  },
  {
   "cell_type": "code",
   "execution_count": 19,
   "id": "selective-anniversary",
   "metadata": {
    "ExecuteTime": {
     "start_time": "2022-04-15T05:47:42.215Z"
    }
   },
   "outputs": [],
   "source": [
    "days_list = ['21 hours ago','22 hours ago','23 hours ago','1 day ago']"
   ]
  },
  {
   "cell_type": "markdown",
   "id": "conservative-parish",
   "metadata": {},
   "source": [
    "#### Scrolling tiap channel"
   ]
  },
  {
   "cell_type": "code",
   "execution_count": 20,
   "id": "adverse-gilbert",
   "metadata": {
    "ExecuteTime": {
     "start_time": "2022-04-15T05:47:42.850Z"
    },
    "scrolled": false
   },
   "outputs": [
    {
     "name": "stderr",
     "output_type": "stream",
     "text": [
      "\r\n",
      "  0%|                                                                                            | 0/2 [00:00<?, ?it/s]"
     ]
    },
    {
     "name": "stdout",
     "output_type": "stream",
     "text": [
      "19 hours ago\n",
      "19 hours ago\n",
      "1 day ago\n",
      "14 seconds passed after crawling title in channel CNNindonesiaOfficial\n"
     ]
    },
    {
     "name": "stderr",
     "output_type": "stream",
     "text": [
      "\r\n",
      " 50%|██████████████████████████████████████████                                          | 1/2 [00:14<00:14, 14.89s/it]"
     ]
    },
    {
     "name": "stdout",
     "output_type": "stream",
     "text": [
      "15 hours ago\n",
      "15 hours ago\n",
      "22 hours ago\n",
      "11 seconds passed after crawling title in channel kompastv\n"
     ]
    },
    {
     "name": "stderr",
     "output_type": "stream",
     "text": [
      "100%|████████████████████████████████████████████████████████████████████████████████████| 2/2 [00:26<00:00, 13.33s/it]\n"
     ]
    }
   ],
   "source": [
    "from bs4 import BeautifulSoup as bs\n",
    "from selenium.webdriver.common.keys import Keys\n",
    "from selenium.webdriver.support import expected_conditions as EC\n",
    "from selenium.webdriver.common.by import By\n",
    "import time\n",
    "from selenium.webdriver.support.ui import WebDriverWait\n",
    "from tqdm import tqdm\n",
    "\n",
    "# channels = \"\"\"CNNindonesiaOfficial\n",
    "# kompastv\n",
    "# tribunnews\n",
    "# tvOneNews\n",
    "# MetrotvnewsOfficial\n",
    "# BeritaSatuChannel\n",
    "# VIVAcoid\n",
    "# CNBCIndonesia_ID\n",
    "# OfficialiNews\n",
    "# HarianKompasCetak\n",
    "# mykompascom\n",
    "# UCQA6NejSxQguRkD3L8eXHzA\n",
    "# OfficialNETNews\n",
    "# TribunMedanTV\n",
    "# detikcom\n",
    "# TribunJogjaOfficial\n",
    "# PikiranRakyatDigital\n",
    "# suaradotcom\"\"\"\n",
    "\n",
    "# channels_decode = \"\"\"CNNindonesiaOfficial\n",
    "# kompastv\n",
    "# tribunnews\n",
    "# tvOneNews\n",
    "# MetrotvnewsOfficial\n",
    "# BeritaSatuChannel\n",
    "# VIVAcoid\n",
    "# CNBCIndonesia_ID\n",
    "# OfficialiNews\n",
    "# HarianKompasCetak\n",
    "# kompas.com\n",
    "# iNews_id\n",
    "# OfficialNETNews\n",
    "# TribunMedanTV\n",
    "# detikcom\n",
    "# TribunJogjaOfficial\n",
    "# PikiranRakyatDigital\n",
    "# suaradotcom\"\"\"\n",
    "\n",
    "channels = \"\"\"CNNindonesiaOfficial\n",
    "kompastv\"\"\"\n",
    "\n",
    "channels_decode = \"\"\"CNNindonesiaOfficial\n",
    "kompastv\"\"\"\n",
    "\n",
    "\n",
    "\n",
    "\n",
    "\n",
    "channels = channels.split('\\n')\n",
    "channels_decode = channels_decode.split('\\n')\n",
    "\n",
    "for channel,decode in zip(tqdm(channels), channels_decode):\n",
    "    start_time = time.time()\n",
    "    if channel in ['UCQA6NejSxQguRkD3L8eXHzA','UCH_ElasO_yPy0WI3rAOUkQQ','UCpFqnctVbdqj1UketjDVz4Q']:\n",
    "        driver.get(f'https://www.youtube.com/channel/{channel}/videos')\n",
    "    elif channel in ['suaradotcom']:\n",
    "        driver.get(f'https://www.youtube.com/user/{channel}/videos')\n",
    "    else:\n",
    "        driver.get(f'https://www.youtube.com/c/{channel}/videos')\n",
    "    sc = 0\n",
    "    while True:\n",
    "        time.sleep(2)\n",
    "        sc += 1080\n",
    "        driver.execute_script(\"window.scrollTo(0, {})\".format(sc))\n",
    "        date_check = WebDriverWait(driver, 60).until(EC.presence_of_all_elements_located((By.CSS_SELECTOR,'#metadata-line span+span')))[-1].text\n",
    "        time.sleep(1)\n",
    "        print(date_check)\n",
    "        \n",
    "        if date_check.split()[1] == 'days' and int(date_check.split()[0]) > 2:\n",
    "            time_passed = round(time.time() - start_time)\n",
    "            print(f\"{time_passed} seconds passed after crawling title in channel {decode}\")\n",
    "            break\n",
    "        if date_check in days_list:\n",
    "            time_passed = round(time.time() - start_time)\n",
    "            print(f\"{time_passed} seconds passed after crawling title in channel {decode}\")\n",
    "            break\n",
    "            \n",
    "    soup = bs(driver.page_source, 'lxml')\n",
    "    links_html = soup.select('#video-title')\n",
    "\n",
    "    for i in links_html:\n",
    "        links.append(i.get('href'))\n",
    "        channel_name.append(decode)"
   ]
  },
  {
   "cell_type": "code",
   "execution_count": 21,
   "id": "genuine-chemical",
   "metadata": {
    "ExecuteTime": {
     "end_time": "2022-04-14T13:05:10.559184Z",
     "start_time": "2022-04-14T13:05:10.551320Z"
    }
   },
   "outputs": [
    {
     "name": "stdout",
     "output_type": "stream",
     "text": [
      "Starting to get all data, total: 180\n"
     ]
    }
   ],
   "source": [
    "# cek linknya berapa banyak\n",
    "print(f'Starting to get all data, total: {len(links)}')"
   ]
  },
  {
   "cell_type": "markdown",
   "id": "behavioral-wright",
   "metadata": {},
   "source": [
    "### Data Crawling"
   ]
  },
  {
   "cell_type": "code",
   "execution_count": 22,
   "id": "comparable-harvard",
   "metadata": {
    "ExecuteTime": {
     "end_time": "2022-04-14T13:05:12.324517Z",
     "start_time": "2022-04-14T13:05:12.321204Z"
    }
   },
   "outputs": [],
   "source": [
    "all_data = []"
   ]
  },
  {
   "cell_type": "code",
   "execution_count": 42,
   "id": "legendary-findings",
   "metadata": {
    "ExecuteTime": {
     "end_time": "2022-04-14T14:45:45.910007Z",
     "start_time": "2022-04-14T13:05:13.631181Z"
    },
    "code_folding": [],
    "scrolled": true
   },
   "outputs": [],
   "source": [
    "from __future__ import unicode_literals\n",
    "from youtube_transcript_api import YouTubeTranscriptApi # API for caption\n",
    "from googleapiclient.discovery import build # API for comment\n",
    "\n",
    "import youtube_dl # API for downloading mp3\n",
    "import re\n",
    "\n",
    "from selenium.webdriver.common.by import By\n",
    "from selenium.webdriver.support.ui import WebDriverWait\n",
    "from selenium.webdriver.support import expected_conditions as EC\n",
    "import time\n",
    "from pytube import YouTube # API for description\n",
    "\n",
    "import urllib.request\n",
    "import json\n",
    "import urllib\n",
    "\n",
    "driver_wait = 5\n",
    "\n",
    "\n",
    "youtube = build('youtube','v3', developerKey=YT_BUILD_TOKEN)\n",
    "\n",
    "for link, ch in zip(tqdm(links),channel_name):\n",
    "    try:\n",
    "        driver.get(f\"https://www.youtube.com/{link}\")\n",
    "    except:\n",
    "        print('driver problem')\n",
    "    time.sleep(2)\n",
    "    \n",
    "    each_data = {}\n",
    "    each_data.update({\"video_link\": f\"https://www.youtube.com{link}\"})\n",
    "    try:\n",
    "        params = {\"format\": \"json\", \"url\": link}\n",
    "        url = \"https://www.youtube.com/oembed\"\n",
    "        query_string = urllib.parse.urlencode(params)\n",
    "        url = url + \"?\" + query_string\n",
    "        with urllib.request.urlopen(url) as response:\n",
    "            response_text = response.read()\n",
    "            data = json.loads(response_text.decode())\n",
    "            video_title = (data['title'])\n",
    "        each_data.update({\"video_title\": video_title})\n",
    "    except Exception as e:\n",
    "        print(e)\n",
    "        each_data.update({\"video_title\": '-'})\n",
    "    try: \n",
    "        video_date = WebDriverWait(driver, driver_wait).until(EC.presence_of_element_located((By.CSS_SELECTOR,'#info-strings'))).text\n",
    "        each_data.update({\"video_date\": video_date})\n",
    "        print(video_date)\n",
    "    except Exception as e:\n",
    "        print(e)\n",
    "        each_data.update({\"video_date\": '-'})\n",
    "    try:\n",
    "        view_count = WebDriverWait(driver, driver_wait).until(EC.presence_of_element_located((By.CSS_SELECTOR,'.view-count'))).text\n",
    "        each_data.update({\"view_count\": view_count})\n",
    "        print(view_count)\n",
    "    except Exception as e:\n",
    "        print(e)\n",
    "        each_data.update({\"view_count\": '-'})\n",
    "    try:\n",
    "        like_count = WebDriverWait(driver, driver_wait).until(EC.presence_of_element_located((By.CSS_SELECTOR,'.yt-simple-endpoint>yt-formatted-string'))).text\n",
    "        each_data.update({\"like_count\": like_count})\n",
    "        print(like_count)\n",
    "    except Exception as e:\n",
    "        print(e)\n",
    "        each_data.update({\"like_count\": '-'})\n",
    "    try:\n",
    "        video_desc = YouTube(link).description\n",
    "        #video_desc = WebDriverWait(driver, driver_wait).until(EC.presence_of_element_located((By.XPATH,'/html/body/ytd-app/div/ytd-page-manager/ytd-watch-flexy/div[5]/div[1]/div/div[9]/div[2]/ytd-video-secondary-info-renderer/div/ytd-expander/div/div/yt-formatted-string'))).text\n",
    "        each_data.update({\"video_desc\": video_desc})\n",
    "    except Exception as e:\n",
    "        print(e)\n",
    "        each_data.update({\"video_desc\": '-'})\n",
    "        \n",
    "\n",
    "        \n",
    "    try:\n",
    "        transcriptList = YouTubeTranscriptApi.list_transcripts(re.findall(r'(?<=watch\\?v\\=).+', link)[0])\n",
    "        dataCaption = []\n",
    "        for transcript in transcriptList:\n",
    "            for text in transcript.translate('id').fetch():\n",
    "                dataCaption.append(text.get('text'))\n",
    "        data_caption_str = ''\n",
    "        for i in dataCaption:\n",
    "            data_caption_str += i + \" \"\n",
    "        each_data.update({\"caption\": data_caption_str})\n",
    "    except Exception as e:\n",
    "        print(e)\n",
    "        each_data.update({\"caption\": '-'})\n",
    "        \n",
    "        try:\n",
    "            def get_video_comments(**kwargs):\n",
    "                comments = []\n",
    "                results = youtube.commentThreads().list(**kwargs).execute()\n",
    "                comment_dict = {\n",
    "                    \"authorDisplayName\": '',\n",
    "                    \"authorChannelUrl\": '',\n",
    "                    \"authorProfileImageUrl\": '',\n",
    "                    \"textOriginal\": '',\n",
    "                    \"likeCount\": '',\n",
    "                    \"replies\" : ''\n",
    "                }\n",
    "                while results:\n",
    "                    for item in results['items']:\n",
    "                        ds = item['snippet']['topLevelComment']['snippet']\n",
    "                        for com_key in comment_dict.keys():\n",
    "                            if com_key != 'replies':\n",
    "                                comment_dict[com_key] = ds[com_key]\n",
    "                            else:\n",
    "                                try:\n",
    "                                    comment_dict['replies'] = item['replies']['comments']\n",
    "                                except:\n",
    "                                    comment_dict['replies'] = []\n",
    "                        comments.append(comment_dict.copy())\n",
    "                    # Check if another page exists\n",
    "                    if 'nextPageToken' in results:\n",
    "                        kwargs['pageToken'] = results['nextPageToken']\n",
    "                        results = youtube.commentThreads().list(**kwargs).execute()\n",
    "                    else:\n",
    "                        break\n",
    "                return comments\n",
    "            \n",
    "            get_all_comment = get_video_comments(part='snippet,replies',videoId=re.findall(r'(?<=watch\\?v\\=).+', link)[0])\n",
    "            each_data.update({\"video_comment\": get_all_comment})      \n",
    "            \n",
    "        except Exception as e:\n",
    "            print(e)\n",
    "            dict_comment_kosong = {'authorDisplayName': '',\n",
    "            'authorChannelUrl': '',\n",
    "            'authorProfileImageUrl': '',\n",
    "            'textOriginal': '',\n",
    "            'likeCount': 0,\n",
    "            'replies': []}\n",
    "            each_data.update({\"video_comment\": [dict_comment_kosong]})\n",
    "    \n",
    "    all_data.append(each_data)\n",
    "    \n",
    "    \n",
    "print('done')"
   ]
  },
  {
   "cell_type": "code",
   "execution_count": 24,
   "id": "center-friday",
   "metadata": {
    "ExecuteTime": {
     "end_time": "2022-04-14T14:45:47.897665Z",
     "start_time": "2022-04-14T14:45:47.853078Z"
    },
    "scrolled": false
   },
   "outputs": [
    {
     "data": {
      "text/html": [
       "<div>\n",
       "<style scoped>\n",
       "    .dataframe tbody tr th:only-of-type {\n",
       "        vertical-align: middle;\n",
       "    }\n",
       "\n",
       "    .dataframe tbody tr th {\n",
       "        vertical-align: top;\n",
       "    }\n",
       "\n",
       "    .dataframe thead th {\n",
       "        text-align: right;\n",
       "    }\n",
       "</style>\n",
       "<table border=\"1\" class=\"dataframe\">\n",
       "  <thead>\n",
       "    <tr style=\"text-align: right;\">\n",
       "      <th></th>\n",
       "      <th>video_link</th>\n",
       "      <th>video_title</th>\n",
       "      <th>video_date</th>\n",
       "      <th>view_count</th>\n",
       "      <th>like_count</th>\n",
       "      <th>video_desc</th>\n",
       "      <th>caption</th>\n",
       "      <th>video_comment</th>\n",
       "      <th>channel_name</th>\n",
       "    </tr>\n",
       "  </thead>\n",
       "  <tbody>\n",
       "    <tr>\n",
       "      <th>0</th>\n",
       "      <td>https://www.youtube.com/watch?v=Ddy8ONr28Cg</td>\n",
       "      <td>Satu Keluarga di Samarinda Terjebak Kebakaran ...</td>\n",
       "      <td>Apr 17, 2022</td>\n",
       "      <td>329 views</td>\n",
       "      <td>3</td>\n",
       "      <td>Sebuah rumah di Jalan AW Syahrani, Samarinda, ...</td>\n",
       "      <td>Ayo kita akan format selanjutnya dan Hai bye b...</td>\n",
       "      <td>[{'authorDisplayName': '7M FISHING', 'authorCh...</td>\n",
       "      <td>CNNindonesiaOfficial</td>\n",
       "    </tr>\n",
       "    <tr>\n",
       "      <th>1</th>\n",
       "      <td>https://www.youtube.com/watch?v=jQ6VK0hnnMU</td>\n",
       "      <td>Hapus Tato Gratis Saat Ramadahan</td>\n",
       "      <td>Apr 17, 2022</td>\n",
       "      <td>351 views</td>\n",
       "      <td>8</td>\n",
       "      <td>Bagaimana Pelaksanaan Maupun Sejauh Mana Progr...</td>\n",
       "      <td>Hai ini amin amin Terima kasih banyak bapak wa...</td>\n",
       "      <td>[{'authorDisplayName': 'Kevin Candra Dinata', ...</td>\n",
       "      <td>CNNindonesiaOfficial</td>\n",
       "    </tr>\n",
       "    <tr>\n",
       "      <th>2</th>\n",
       "      <td>https://www.youtube.com/watch?v=jKMPfU07MY0</td>\n",
       "      <td>Pasca-Serangan di Al Aqsa</td>\n",
       "      <td>Apr 17, 2022</td>\n",
       "      <td>886 views</td>\n",
       "      <td>8</td>\n",
       "      <td>Bagaimana Perkembangan, Maupun Kondisi Terkini...</td>\n",
       "      <td>Hai Hai terhenti tapi kita keras selalu kalau ...</td>\n",
       "      <td>[{'authorDisplayName': 'Rдmzдй Кдdу́гov 🇷🇺', '...</td>\n",
       "      <td>CNNindonesiaOfficial</td>\n",
       "    </tr>\n",
       "    <tr>\n",
       "      <th>3</th>\n",
       "      <td>https://www.youtube.com/watch?v=tAiR5mrjxe8</td>\n",
       "      <td>Ramadan di Negeri Para Dewa</td>\n",
       "      <td>Apr 17, 2022</td>\n",
       "      <td>653 views</td>\n",
       "      <td>11</td>\n",
       "      <td>Hadirnya Bulan Ramadan Selalu Dinantikan Oleh ...</td>\n",
       "      <td>Hai Terima kasih Anda masih bersama kami soal ...</td>\n",
       "      <td>[{'authorDisplayName': ' Hamas Official حماس '...</td>\n",
       "      <td>CNNindonesiaOfficial</td>\n",
       "    </tr>\n",
       "    <tr>\n",
       "      <th>4</th>\n",
       "      <td>https://www.youtube.com/watch?v=uZbBOmutRhY</td>\n",
       "      <td>Pengamat: Aspirasi Akar Rumput Partai Berbeda ...</td>\n",
       "      <td>Apr 17, 2022</td>\n",
       "      <td>10,946 views</td>\n",
       "      <td>133</td>\n",
       "      <td>Kencang suara arus bawah partai persatuan pemb...</td>\n",
       "      <td>Hai kencang suara arus bawah Partai Hai selama...</td>\n",
       "      <td>[{'authorDisplayName': 'Yogi Purnama', 'author...</td>\n",
       "      <td>CNNindonesiaOfficial</td>\n",
       "    </tr>\n",
       "    <tr>\n",
       "      <th>...</th>\n",
       "      <td>...</td>\n",
       "      <td>...</td>\n",
       "      <td>...</td>\n",
       "      <td>...</td>\n",
       "      <td>...</td>\n",
       "      <td>...</td>\n",
       "      <td>...</td>\n",
       "      <td>...</td>\n",
       "      <td>...</td>\n",
       "    </tr>\n",
       "    <tr>\n",
       "      <th>175</th>\n",
       "      <td>https://www.youtube.com/watch?v=aDc8WYLq3BA</td>\n",
       "      <td>Warga Pademangan Nyaris Saling Pukul Diduga Ak...</td>\n",
       "      <td>Apr 16, 2022</td>\n",
       "      <td>4,510 views</td>\n",
       "      <td>35</td>\n",
       "      <td>JAKARTA, KOMPAS.TV - Sebuah rumah di Pademanga...</td>\n",
       "      <td>di sebuah rumah di Pademangan Jakarta pompa el...</td>\n",
       "      <td>[{'authorDisplayName': 'Vision TV, Anthony dek...</td>\n",
       "      <td>kompastv</td>\n",
       "    </tr>\n",
       "    <tr>\n",
       "      <th>176</th>\n",
       "      <td>https://www.youtube.com/watch?v=EV5YQQr5FPc</td>\n",
       "      <td>Terlibat Kecelakaan Beruntun, Pengendara Motor...</td>\n",
       "      <td>Apr 16, 2022</td>\n",
       "      <td>13,088 views</td>\n",
       "      <td>52</td>\n",
       "      <td>SIDOARJO, KOMPAS.TV - Enam orang terluka, dan ...</td>\n",
       "      <td>enam orang terluka dan empat di ditangani unit...</td>\n",
       "      <td>[{'authorDisplayName': 'someone 089', 'authorC...</td>\n",
       "      <td>kompastv</td>\n",
       "    </tr>\n",
       "    <tr>\n",
       "      <th>177</th>\n",
       "      <td>https://www.youtube.com/watch?v=YI-90fhQgt4</td>\n",
       "      <td>RSUD Dokter Soekardjo Terendam Banjir, Sejumla...</td>\n",
       "      <td>Apr 16, 2022</td>\n",
       "      <td>2,193 views</td>\n",
       "      <td>15</td>\n",
       "      <td>TASIKMALAYA, KOMPAS.TV - Hujan deras yang meng...</td>\n",
       "      <td>hujan deras yang mengguyur wilayah Kota Tasikm...</td>\n",
       "      <td>[{'authorDisplayName': 'tania amalia', 'author...</td>\n",
       "      <td>kompastv</td>\n",
       "    </tr>\n",
       "    <tr>\n",
       "      <th>178</th>\n",
       "      <td>https://www.youtube.com/watch?v=jeIWSbEBRCA</td>\n",
       "      <td>Kampung Cibogo Purwakarta Terendam Banjir Usai...</td>\n",
       "      <td>Apr 16, 2022</td>\n",
       "      <td>1,987 views</td>\n",
       "      <td>15</td>\n",
       "      <td>PURWAKARTA, KOMPAS.TV - Hujan deras yang turun...</td>\n",
       "      <td>hujan deras yang turun sepanjang Jumat terenda...</td>\n",
       "      <td>[{'authorDisplayName': 'Nastain Tain', 'author...</td>\n",
       "      <td>kompastv</td>\n",
       "    </tr>\n",
       "    <tr>\n",
       "      <th>179</th>\n",
       "      <td>https://www.youtube.com/watch?v=MxyBvVtkfgU</td>\n",
       "      <td>7 Fakta Menarik Negara Ukraina</td>\n",
       "      <td>Apr 15, 2022</td>\n",
       "      <td>45,947 views</td>\n",
       "      <td>246</td>\n",
       "      <td>KOMPAS.TV  Perang Rusia Ukraina di tahun 2022 ...</td>\n",
       "      <td>[Musik] [Musik] [Musik] kamu</td>\n",
       "      <td>[{'authorDisplayName': 'Dino Dino', 'authorCha...</td>\n",
       "      <td>kompastv</td>\n",
       "    </tr>\n",
       "  </tbody>\n",
       "</table>\n",
       "<p>180 rows × 9 columns</p>\n",
       "</div>"
      ],
      "text/plain": [
       "                                      video_link  \\\n",
       "0    https://www.youtube.com/watch?v=Ddy8ONr28Cg   \n",
       "1    https://www.youtube.com/watch?v=jQ6VK0hnnMU   \n",
       "2    https://www.youtube.com/watch?v=jKMPfU07MY0   \n",
       "3    https://www.youtube.com/watch?v=tAiR5mrjxe8   \n",
       "4    https://www.youtube.com/watch?v=uZbBOmutRhY   \n",
       "..                                           ...   \n",
       "175  https://www.youtube.com/watch?v=aDc8WYLq3BA   \n",
       "176  https://www.youtube.com/watch?v=EV5YQQr5FPc   \n",
       "177  https://www.youtube.com/watch?v=YI-90fhQgt4   \n",
       "178  https://www.youtube.com/watch?v=jeIWSbEBRCA   \n",
       "179  https://www.youtube.com/watch?v=MxyBvVtkfgU   \n",
       "\n",
       "                                           video_title    video_date  \\\n",
       "0    Satu Keluarga di Samarinda Terjebak Kebakaran ...  Apr 17, 2022   \n",
       "1                     Hapus Tato Gratis Saat Ramadahan  Apr 17, 2022   \n",
       "2                            Pasca-Serangan di Al Aqsa  Apr 17, 2022   \n",
       "3                          Ramadan di Negeri Para Dewa  Apr 17, 2022   \n",
       "4    Pengamat: Aspirasi Akar Rumput Partai Berbeda ...  Apr 17, 2022   \n",
       "..                                                 ...           ...   \n",
       "175  Warga Pademangan Nyaris Saling Pukul Diduga Ak...  Apr 16, 2022   \n",
       "176  Terlibat Kecelakaan Beruntun, Pengendara Motor...  Apr 16, 2022   \n",
       "177  RSUD Dokter Soekardjo Terendam Banjir, Sejumla...  Apr 16, 2022   \n",
       "178  Kampung Cibogo Purwakarta Terendam Banjir Usai...  Apr 16, 2022   \n",
       "179                     7 Fakta Menarik Negara Ukraina  Apr 15, 2022   \n",
       "\n",
       "       view_count like_count  \\\n",
       "0       329 views          3   \n",
       "1       351 views          8   \n",
       "2       886 views          8   \n",
       "3       653 views         11   \n",
       "4    10,946 views        133   \n",
       "..            ...        ...   \n",
       "175   4,510 views         35   \n",
       "176  13,088 views         52   \n",
       "177   2,193 views         15   \n",
       "178   1,987 views         15   \n",
       "179  45,947 views        246   \n",
       "\n",
       "                                            video_desc  \\\n",
       "0    Sebuah rumah di Jalan AW Syahrani, Samarinda, ...   \n",
       "1    Bagaimana Pelaksanaan Maupun Sejauh Mana Progr...   \n",
       "2    Bagaimana Perkembangan, Maupun Kondisi Terkini...   \n",
       "3    Hadirnya Bulan Ramadan Selalu Dinantikan Oleh ...   \n",
       "4    Kencang suara arus bawah partai persatuan pemb...   \n",
       "..                                                 ...   \n",
       "175  JAKARTA, KOMPAS.TV - Sebuah rumah di Pademanga...   \n",
       "176  SIDOARJO, KOMPAS.TV - Enam orang terluka, dan ...   \n",
       "177  TASIKMALAYA, KOMPAS.TV - Hujan deras yang meng...   \n",
       "178  PURWAKARTA, KOMPAS.TV - Hujan deras yang turun...   \n",
       "179  KOMPAS.TV  Perang Rusia Ukraina di tahun 2022 ...   \n",
       "\n",
       "                                               caption  \\\n",
       "0    Ayo kita akan format selanjutnya dan Hai bye b...   \n",
       "1    Hai ini amin amin Terima kasih banyak bapak wa...   \n",
       "2    Hai Hai terhenti tapi kita keras selalu kalau ...   \n",
       "3    Hai Terima kasih Anda masih bersama kami soal ...   \n",
       "4    Hai kencang suara arus bawah Partai Hai selama...   \n",
       "..                                                 ...   \n",
       "175  di sebuah rumah di Pademangan Jakarta pompa el...   \n",
       "176  enam orang terluka dan empat di ditangani unit...   \n",
       "177  hujan deras yang mengguyur wilayah Kota Tasikm...   \n",
       "178  hujan deras yang turun sepanjang Jumat terenda...   \n",
       "179                      [Musik] [Musik] [Musik] kamu    \n",
       "\n",
       "                                         video_comment          channel_name  \n",
       "0    [{'authorDisplayName': '7M FISHING', 'authorCh...  CNNindonesiaOfficial  \n",
       "1    [{'authorDisplayName': 'Kevin Candra Dinata', ...  CNNindonesiaOfficial  \n",
       "2    [{'authorDisplayName': 'Rдmzдй Кдdу́гov 🇷🇺', '...  CNNindonesiaOfficial  \n",
       "3    [{'authorDisplayName': ' Hamas Official حماس '...  CNNindonesiaOfficial  \n",
       "4    [{'authorDisplayName': 'Yogi Purnama', 'author...  CNNindonesiaOfficial  \n",
       "..                                                 ...                   ...  \n",
       "175  [{'authorDisplayName': 'Vision TV, Anthony dek...              kompastv  \n",
       "176  [{'authorDisplayName': 'someone 089', 'authorC...              kompastv  \n",
       "177  [{'authorDisplayName': 'tania amalia', 'author...              kompastv  \n",
       "178  [{'authorDisplayName': 'Nastain Tain', 'author...              kompastv  \n",
       "179  [{'authorDisplayName': 'Dino Dino', 'authorCha...              kompastv  \n",
       "\n",
       "[180 rows x 9 columns]"
      ]
     },
     "execution_count": 24,
     "metadata": {},
     "output_type": "execute_result"
    }
   ],
   "source": [
    "all_data_table = pd.DataFrame(all_data)\n",
    "all_data_table"
   ]
  },
  {
   "cell_type": "markdown",
   "id": "effective-stability",
   "metadata": {
    "ExecuteTime": {
     "end_time": "2022-02-16T11:53:54.401558Z",
     "start_time": "2022-02-16T11:53:54.396818Z"
    }
   },
   "source": [
    "### Check for Caption"
   ]
  },
  {
   "cell_type": "code",
   "execution_count": 25,
   "id": "instructional-multimedia",
   "metadata": {
    "ExecuteTime": {
     "end_time": "2022-04-14T14:45:49.883712Z",
     "start_time": "2022-04-14T14:45:49.829977Z"
    },
    "scrolled": true
   },
   "outputs": [
    {
     "data": {
      "text/html": [
       "<div>\n",
       "<style scoped>\n",
       "    .dataframe tbody tr th:only-of-type {\n",
       "        vertical-align: middle;\n",
       "    }\n",
       "\n",
       "    .dataframe tbody tr th {\n",
       "        vertical-align: top;\n",
       "    }\n",
       "\n",
       "    .dataframe thead th {\n",
       "        text-align: right;\n",
       "    }\n",
       "</style>\n",
       "<table border=\"1\" class=\"dataframe\">\n",
       "  <thead>\n",
       "    <tr style=\"text-align: right;\">\n",
       "      <th></th>\n",
       "      <th>video_link</th>\n",
       "      <th>video_title</th>\n",
       "      <th>video_date</th>\n",
       "      <th>view_count</th>\n",
       "      <th>like_count</th>\n",
       "      <th>video_desc</th>\n",
       "      <th>caption</th>\n",
       "      <th>video_comment</th>\n",
       "      <th>channel_name</th>\n",
       "    </tr>\n",
       "  </thead>\n",
       "  <tbody>\n",
       "    <tr>\n",
       "      <th>37</th>\n",
       "      <td>https://www.youtube.com/watch?v=yQIdRvQCT58</td>\n",
       "      <td>Ramainya Buka Puasa Bersama Saat Payung Masjid...</td>\n",
       "      <td>Apr 16, 2022</td>\n",
       "      <td>1,606 views</td>\n",
       "      <td>10</td>\n",
       "      <td>Masjid Nabawi di Madinah, Arab Saudi menjadi s...</td>\n",
       "      <td>-</td>\n",
       "      <td>[]</td>\n",
       "      <td>CNNindonesiaOfficial</td>\n",
       "    </tr>\n",
       "    <tr>\n",
       "      <th>79</th>\n",
       "      <td>https://www.youtube.com/watch?v=Kl1OxZ78q0A</td>\n",
       "      <td>CNN Indonesia - Quiz</td>\n",
       "      <td>Apr 15, 2022</td>\n",
       "      <td>486 views</td>\n",
       "      <td>6</td>\n",
       "      <td>Live streaming 24 jam: https://www.cnnindonesi...</td>\n",
       "      <td>-</td>\n",
       "      <td>[{'authorDisplayName': 'elisabeth rumiyati', '...</td>\n",
       "      <td>CNNindonesiaOfficial</td>\n",
       "    </tr>\n",
       "    <tr>\n",
       "      <th>88</th>\n",
       "      <td>https://www.youtube.com/watch?v=KSLtrwdiHvM</td>\n",
       "      <td>CNN Indonesia - Memperingati Wafatnya Isa Almasih</td>\n",
       "      <td>Apr 14, 2022</td>\n",
       "      <td>1,261 views</td>\n",
       "      <td>19</td>\n",
       "      <td>The Credits\\n\\nSr. D.O.P: Nugraha\\nProducer: M...</td>\n",
       "      <td>-</td>\n",
       "      <td>[{'authorDisplayName': 'Albertus Ronald I.B.',...</td>\n",
       "      <td>CNNindonesiaOfficial</td>\n",
       "    </tr>\n",
       "    <tr>\n",
       "      <th>105</th>\n",
       "      <td>https://www.youtube.com/watch?v=yL8jMx6uIeE</td>\n",
       "      <td>Rusia Klaim Hancurkan Pabrik Produksi Tank di ...</td>\n",
       "      <td>Apr 16, 2022</td>\n",
       "      <td>24,940 views</td>\n",
       "      <td>234</td>\n",
       "      <td>KYIV, KOMPAS.TV - Pasukan Rusia menghancurkan ...</td>\n",
       "      <td>-</td>\n",
       "      <td>[{'authorDisplayName': 'Elisabet', 'authorChan...</td>\n",
       "      <td>kompastv</td>\n",
       "    </tr>\n",
       "    <tr>\n",
       "      <th>106</th>\n",
       "      <td>https://www.youtube.com/watch?v=nLayyEK7Joo</td>\n",
       "      <td>Update Corona 16 April 2022: Bertambah Sebanya...</td>\n",
       "      <td>Apr 16, 2022</td>\n",
       "      <td>3,460 views</td>\n",
       "      <td></td>\n",
       "      <td>JAKARTA, KOMPAS.TV - Satuan Tugas Penanganan C...</td>\n",
       "      <td>-</td>\n",
       "      <td>[{'authorDisplayName': 'Wong Koclok', 'authorC...</td>\n",
       "      <td>kompastv</td>\n",
       "    </tr>\n",
       "    <tr>\n",
       "      <th>117</th>\n",
       "      <td>https://www.youtube.com/watch?v=kGrjZPTs81g</td>\n",
       "      <td>Kata Kapolri soal Kasus Korban Begal Amaq Sint...</td>\n",
       "      <td>Apr 16, 2022</td>\n",
       "      <td>111,424 views</td>\n",
       "      <td>797</td>\n",
       "      <td>JAKARTA, KOMPAS.TV  Kapolri Jenderal Listyo Si...</td>\n",
       "      <td>-</td>\n",
       "      <td>[{'authorDisplayName': 'silvia dewi', 'authorC...</td>\n",
       "      <td>kompastv</td>\n",
       "    </tr>\n",
       "    <tr>\n",
       "      <th>132</th>\n",
       "      <td>https://www.youtube.com/watch?v=Jsm2v8PJolc</td>\n",
       "      <td>Ratusan Rakyat Yordania Gelar Demonstrasi Keca...</td>\n",
       "      <td>Apr 16, 2022</td>\n",
       "      <td>10,262 views</td>\n",
       "      <td>170</td>\n",
       "      <td>AMMAN, KOMPAS.TV - Ratusan rakyat Yordania tur...</td>\n",
       "      <td>-</td>\n",
       "      <td>[{'authorDisplayName': 'Winda Panjaitan', 'aut...</td>\n",
       "      <td>kompastv</td>\n",
       "    </tr>\n",
       "    <tr>\n",
       "      <th>135</th>\n",
       "      <td>https://www.youtube.com/watch?v=rpCvEBPUasg</td>\n",
       "      <td>Tuntaskan Misi Luar Angkasa, Astronot Perempua...</td>\n",
       "      <td>Apr 16, 2022</td>\n",
       "      <td>9,498 views</td>\n",
       "      <td>87</td>\n",
       "      <td>JAKARTA, KOMPAS.TV - Tiga astronot China kemba...</td>\n",
       "      <td>-</td>\n",
       "      <td>[{'authorDisplayName': 'NKRI}★', 'authorChanne...</td>\n",
       "      <td>kompastv</td>\n",
       "    </tr>\n",
       "    <tr>\n",
       "      <th>164</th>\n",
       "      <td>https://www.youtube.com/watch?v=J2_bU6RMw1I</td>\n",
       "      <td>Zelensky Minta Uni Eropa Embargo Minyak Rusia:...</td>\n",
       "      <td>Apr 16, 2022</td>\n",
       "      <td>8,164 views</td>\n",
       "      <td>53</td>\n",
       "      <td>KIEV, KOMPAS.TV  Presiden Ukraina Volodymyr Ze...</td>\n",
       "      <td>-</td>\n",
       "      <td>[{'authorDisplayName': 'Anto Tok', 'authorChan...</td>\n",
       "      <td>kompastv</td>\n",
       "    </tr>\n",
       "    <tr>\n",
       "      <th>172</th>\n",
       "      <td>https://www.youtube.com/watch?v=SJ9eangh61s</td>\n",
       "      <td>Gambar Satelit Terbaru, Konvoi Rusia Terus Ber...</td>\n",
       "      <td>Apr 16, 2022</td>\n",
       "      <td>58,423 views</td>\n",
       "      <td>488</td>\n",
       "      <td>JAKARTA, KOMPAS.TV  Maxar Technologies merilis...</td>\n",
       "      <td>-</td>\n",
       "      <td>[{'authorDisplayName': 'HR123', 'authorChannel...</td>\n",
       "      <td>kompastv</td>\n",
       "    </tr>\n",
       "  </tbody>\n",
       "</table>\n",
       "</div>"
      ],
      "text/plain": [
       "                                      video_link  \\\n",
       "37   https://www.youtube.com/watch?v=yQIdRvQCT58   \n",
       "79   https://www.youtube.com/watch?v=Kl1OxZ78q0A   \n",
       "88   https://www.youtube.com/watch?v=KSLtrwdiHvM   \n",
       "105  https://www.youtube.com/watch?v=yL8jMx6uIeE   \n",
       "106  https://www.youtube.com/watch?v=nLayyEK7Joo   \n",
       "117  https://www.youtube.com/watch?v=kGrjZPTs81g   \n",
       "132  https://www.youtube.com/watch?v=Jsm2v8PJolc   \n",
       "135  https://www.youtube.com/watch?v=rpCvEBPUasg   \n",
       "164  https://www.youtube.com/watch?v=J2_bU6RMw1I   \n",
       "172  https://www.youtube.com/watch?v=SJ9eangh61s   \n",
       "\n",
       "                                           video_title    video_date  \\\n",
       "37   Ramainya Buka Puasa Bersama Saat Payung Masjid...  Apr 16, 2022   \n",
       "79                                CNN Indonesia - Quiz  Apr 15, 2022   \n",
       "88   CNN Indonesia - Memperingati Wafatnya Isa Almasih  Apr 14, 2022   \n",
       "105  Rusia Klaim Hancurkan Pabrik Produksi Tank di ...  Apr 16, 2022   \n",
       "106  Update Corona 16 April 2022: Bertambah Sebanya...  Apr 16, 2022   \n",
       "117  Kata Kapolri soal Kasus Korban Begal Amaq Sint...  Apr 16, 2022   \n",
       "132  Ratusan Rakyat Yordania Gelar Demonstrasi Keca...  Apr 16, 2022   \n",
       "135  Tuntaskan Misi Luar Angkasa, Astronot Perempua...  Apr 16, 2022   \n",
       "164  Zelensky Minta Uni Eropa Embargo Minyak Rusia:...  Apr 16, 2022   \n",
       "172  Gambar Satelit Terbaru, Konvoi Rusia Terus Ber...  Apr 16, 2022   \n",
       "\n",
       "        view_count like_count  \\\n",
       "37     1,606 views         10   \n",
       "79       486 views          6   \n",
       "88     1,261 views         19   \n",
       "105   24,940 views        234   \n",
       "106    3,460 views              \n",
       "117  111,424 views        797   \n",
       "132   10,262 views        170   \n",
       "135    9,498 views         87   \n",
       "164    8,164 views         53   \n",
       "172   58,423 views        488   \n",
       "\n",
       "                                            video_desc caption  \\\n",
       "37   Masjid Nabawi di Madinah, Arab Saudi menjadi s...       -   \n",
       "79   Live streaming 24 jam: https://www.cnnindonesi...       -   \n",
       "88   The Credits\\n\\nSr. D.O.P: Nugraha\\nProducer: M...       -   \n",
       "105  KYIV, KOMPAS.TV - Pasukan Rusia menghancurkan ...       -   \n",
       "106  JAKARTA, KOMPAS.TV - Satuan Tugas Penanganan C...       -   \n",
       "117  JAKARTA, KOMPAS.TV  Kapolri Jenderal Listyo Si...       -   \n",
       "132  AMMAN, KOMPAS.TV - Ratusan rakyat Yordania tur...       -   \n",
       "135  JAKARTA, KOMPAS.TV - Tiga astronot China kemba...       -   \n",
       "164  KIEV, KOMPAS.TV  Presiden Ukraina Volodymyr Ze...       -   \n",
       "172  JAKARTA, KOMPAS.TV  Maxar Technologies merilis...       -   \n",
       "\n",
       "                                         video_comment          channel_name  \n",
       "37                                                  []  CNNindonesiaOfficial  \n",
       "79   [{'authorDisplayName': 'elisabeth rumiyati', '...  CNNindonesiaOfficial  \n",
       "88   [{'authorDisplayName': 'Albertus Ronald I.B.',...  CNNindonesiaOfficial  \n",
       "105  [{'authorDisplayName': 'Elisabet', 'authorChan...              kompastv  \n",
       "106  [{'authorDisplayName': 'Wong Koclok', 'authorC...              kompastv  \n",
       "117  [{'authorDisplayName': 'silvia dewi', 'authorC...              kompastv  \n",
       "132  [{'authorDisplayName': 'Winda Panjaitan', 'aut...              kompastv  \n",
       "135  [{'authorDisplayName': 'NKRI}★', 'authorChanne...              kompastv  \n",
       "164  [{'authorDisplayName': 'Anto Tok', 'authorChan...              kompastv  \n",
       "172  [{'authorDisplayName': 'HR123', 'authorChannel...              kompastv  "
      ]
     },
     "execution_count": 25,
     "metadata": {},
     "output_type": "execute_result"
    }
   ],
   "source": [
    "no_caption_df = all_data_table[all_data_table['caption'] == '-']\n",
    "no_caption_df"
   ]
  },
  {
   "cell_type": "code",
   "execution_count": 26,
   "id": "characteristic-shore",
   "metadata": {
    "ExecuteTime": {
     "end_time": "2022-04-14T14:45:51.779251Z",
     "start_time": "2022-04-14T14:45:51.775430Z"
    }
   },
   "outputs": [
    {
     "name": "stdout",
     "output_type": "stream",
     "text": [
      "There is 170/180 data!\n"
     ]
    }
   ],
   "source": [
    "print(f'There is {len(all_data_table) - len(no_caption_df)}/{len(all_data_table)} data!')"
   ]
  },
  {
   "cell_type": "markdown",
   "id": "hungry-coffee",
   "metadata": {},
   "source": [
    "##### Save the data just in case"
   ]
  },
  {
   "cell_type": "code",
   "execution_count": 27,
   "id": "radio-parcel",
   "metadata": {
    "ExecuteTime": {
     "end_time": "2022-04-14T14:45:53.760702Z",
     "start_time": "2022-04-14T14:45:53.755606Z"
    }
   },
   "outputs": [
    {
     "data": {
      "text/plain": [
       "'04-17-2022'"
      ]
     },
     "execution_count": 27,
     "metadata": {},
     "output_type": "execute_result"
    }
   ],
   "source": [
    "\n",
    "from datetime import datetime\n",
    "\n",
    "now = datetime.now() # current date and time\n",
    "date_time = now.strftime(\"%m/%d/%Y\").replace('/','-')\n",
    "date_time"
   ]
  },
  {
   "cell_type": "code",
   "execution_count": 28,
   "id": "opposite-barbados",
   "metadata": {
    "ExecuteTime": {
     "end_time": "2022-04-14T14:45:55.908884Z",
     "start_time": "2022-04-14T14:45:55.725556Z"
    }
   },
   "outputs": [],
   "source": [
    "no_stt = f'data_yt_harian_{date_time}_raw.json'\n",
    "with open(no_stt,'w') as f:\n",
    "    all_data = json.dump(all_data_table.to_dict('records'),f)"
   ]
  },
  {
   "cell_type": "markdown",
   "id": "developmental-example",
   "metadata": {},
   "source": [
    "### For data with no caption download the mp3"
   ]
  },
  {
   "cell_type": "code",
   "execution_count": 29,
   "id": "cellular-lease",
   "metadata": {
    "ExecuteTime": {
     "end_time": "2022-04-14T14:45:57.393225Z",
     "start_time": "2022-04-14T14:45:57.352025Z"
    },
    "scrolled": true
   },
   "outputs": [
    {
     "data": {
      "text/html": [
       "<div>\n",
       "<style scoped>\n",
       "    .dataframe tbody tr th:only-of-type {\n",
       "        vertical-align: middle;\n",
       "    }\n",
       "\n",
       "    .dataframe tbody tr th {\n",
       "        vertical-align: top;\n",
       "    }\n",
       "\n",
       "    .dataframe thead th {\n",
       "        text-align: right;\n",
       "    }\n",
       "</style>\n",
       "<table border=\"1\" class=\"dataframe\">\n",
       "  <thead>\n",
       "    <tr style=\"text-align: right;\">\n",
       "      <th></th>\n",
       "      <th>video_link</th>\n",
       "      <th>video_title</th>\n",
       "      <th>video_date</th>\n",
       "      <th>view_count</th>\n",
       "      <th>like_count</th>\n",
       "      <th>video_desc</th>\n",
       "      <th>caption</th>\n",
       "      <th>video_comment</th>\n",
       "      <th>channel_name</th>\n",
       "    </tr>\n",
       "  </thead>\n",
       "  <tbody>\n",
       "    <tr>\n",
       "      <th>37</th>\n",
       "      <td>https://www.youtube.com/watch?v=yQIdRvQCT58</td>\n",
       "      <td>Ramainya Buka Puasa Bersama Saat Payung Masjid...</td>\n",
       "      <td>Apr 16, 2022</td>\n",
       "      <td>1,606 views</td>\n",
       "      <td>10</td>\n",
       "      <td>Masjid Nabawi di Madinah, Arab Saudi menjadi s...</td>\n",
       "      <td>-</td>\n",
       "      <td>[]</td>\n",
       "      <td>CNNindonesiaOfficial</td>\n",
       "    </tr>\n",
       "    <tr>\n",
       "      <th>79</th>\n",
       "      <td>https://www.youtube.com/watch?v=Kl1OxZ78q0A</td>\n",
       "      <td>CNN Indonesia - Quiz</td>\n",
       "      <td>Apr 15, 2022</td>\n",
       "      <td>486 views</td>\n",
       "      <td>6</td>\n",
       "      <td>Live streaming 24 jam: https://www.cnnindonesi...</td>\n",
       "      <td>-</td>\n",
       "      <td>[{'authorDisplayName': 'elisabeth rumiyati', '...</td>\n",
       "      <td>CNNindonesiaOfficial</td>\n",
       "    </tr>\n",
       "    <tr>\n",
       "      <th>88</th>\n",
       "      <td>https://www.youtube.com/watch?v=KSLtrwdiHvM</td>\n",
       "      <td>CNN Indonesia - Memperingati Wafatnya Isa Almasih</td>\n",
       "      <td>Apr 14, 2022</td>\n",
       "      <td>1,261 views</td>\n",
       "      <td>19</td>\n",
       "      <td>The Credits\\n\\nSr. D.O.P: Nugraha\\nProducer: M...</td>\n",
       "      <td>-</td>\n",
       "      <td>[{'authorDisplayName': 'Albertus Ronald I.B.',...</td>\n",
       "      <td>CNNindonesiaOfficial</td>\n",
       "    </tr>\n",
       "    <tr>\n",
       "      <th>105</th>\n",
       "      <td>https://www.youtube.com/watch?v=yL8jMx6uIeE</td>\n",
       "      <td>Rusia Klaim Hancurkan Pabrik Produksi Tank di ...</td>\n",
       "      <td>Apr 16, 2022</td>\n",
       "      <td>24,940 views</td>\n",
       "      <td>234</td>\n",
       "      <td>KYIV, KOMPAS.TV - Pasukan Rusia menghancurkan ...</td>\n",
       "      <td>-</td>\n",
       "      <td>[{'authorDisplayName': 'Elisabet', 'authorChan...</td>\n",
       "      <td>kompastv</td>\n",
       "    </tr>\n",
       "    <tr>\n",
       "      <th>106</th>\n",
       "      <td>https://www.youtube.com/watch?v=nLayyEK7Joo</td>\n",
       "      <td>Update Corona 16 April 2022: Bertambah Sebanya...</td>\n",
       "      <td>Apr 16, 2022</td>\n",
       "      <td>3,460 views</td>\n",
       "      <td></td>\n",
       "      <td>JAKARTA, KOMPAS.TV - Satuan Tugas Penanganan C...</td>\n",
       "      <td>-</td>\n",
       "      <td>[{'authorDisplayName': 'Wong Koclok', 'authorC...</td>\n",
       "      <td>kompastv</td>\n",
       "    </tr>\n",
       "    <tr>\n",
       "      <th>117</th>\n",
       "      <td>https://www.youtube.com/watch?v=kGrjZPTs81g</td>\n",
       "      <td>Kata Kapolri soal Kasus Korban Begal Amaq Sint...</td>\n",
       "      <td>Apr 16, 2022</td>\n",
       "      <td>111,424 views</td>\n",
       "      <td>797</td>\n",
       "      <td>JAKARTA, KOMPAS.TV  Kapolri Jenderal Listyo Si...</td>\n",
       "      <td>-</td>\n",
       "      <td>[{'authorDisplayName': 'silvia dewi', 'authorC...</td>\n",
       "      <td>kompastv</td>\n",
       "    </tr>\n",
       "    <tr>\n",
       "      <th>132</th>\n",
       "      <td>https://www.youtube.com/watch?v=Jsm2v8PJolc</td>\n",
       "      <td>Ratusan Rakyat Yordania Gelar Demonstrasi Keca...</td>\n",
       "      <td>Apr 16, 2022</td>\n",
       "      <td>10,262 views</td>\n",
       "      <td>170</td>\n",
       "      <td>AMMAN, KOMPAS.TV - Ratusan rakyat Yordania tur...</td>\n",
       "      <td>-</td>\n",
       "      <td>[{'authorDisplayName': 'Winda Panjaitan', 'aut...</td>\n",
       "      <td>kompastv</td>\n",
       "    </tr>\n",
       "    <tr>\n",
       "      <th>135</th>\n",
       "      <td>https://www.youtube.com/watch?v=rpCvEBPUasg</td>\n",
       "      <td>Tuntaskan Misi Luar Angkasa, Astronot Perempua...</td>\n",
       "      <td>Apr 16, 2022</td>\n",
       "      <td>9,498 views</td>\n",
       "      <td>87</td>\n",
       "      <td>JAKARTA, KOMPAS.TV - Tiga astronot China kemba...</td>\n",
       "      <td>-</td>\n",
       "      <td>[{'authorDisplayName': 'NKRI}★', 'authorChanne...</td>\n",
       "      <td>kompastv</td>\n",
       "    </tr>\n",
       "    <tr>\n",
       "      <th>164</th>\n",
       "      <td>https://www.youtube.com/watch?v=J2_bU6RMw1I</td>\n",
       "      <td>Zelensky Minta Uni Eropa Embargo Minyak Rusia:...</td>\n",
       "      <td>Apr 16, 2022</td>\n",
       "      <td>8,164 views</td>\n",
       "      <td>53</td>\n",
       "      <td>KIEV, KOMPAS.TV  Presiden Ukraina Volodymyr Ze...</td>\n",
       "      <td>-</td>\n",
       "      <td>[{'authorDisplayName': 'Anto Tok', 'authorChan...</td>\n",
       "      <td>kompastv</td>\n",
       "    </tr>\n",
       "    <tr>\n",
       "      <th>172</th>\n",
       "      <td>https://www.youtube.com/watch?v=SJ9eangh61s</td>\n",
       "      <td>Gambar Satelit Terbaru, Konvoi Rusia Terus Ber...</td>\n",
       "      <td>Apr 16, 2022</td>\n",
       "      <td>58,423 views</td>\n",
       "      <td>488</td>\n",
       "      <td>JAKARTA, KOMPAS.TV  Maxar Technologies merilis...</td>\n",
       "      <td>-</td>\n",
       "      <td>[{'authorDisplayName': 'HR123', 'authorChannel...</td>\n",
       "      <td>kompastv</td>\n",
       "    </tr>\n",
       "  </tbody>\n",
       "</table>\n",
       "</div>"
      ],
      "text/plain": [
       "                                      video_link  \\\n",
       "37   https://www.youtube.com/watch?v=yQIdRvQCT58   \n",
       "79   https://www.youtube.com/watch?v=Kl1OxZ78q0A   \n",
       "88   https://www.youtube.com/watch?v=KSLtrwdiHvM   \n",
       "105  https://www.youtube.com/watch?v=yL8jMx6uIeE   \n",
       "106  https://www.youtube.com/watch?v=nLayyEK7Joo   \n",
       "117  https://www.youtube.com/watch?v=kGrjZPTs81g   \n",
       "132  https://www.youtube.com/watch?v=Jsm2v8PJolc   \n",
       "135  https://www.youtube.com/watch?v=rpCvEBPUasg   \n",
       "164  https://www.youtube.com/watch?v=J2_bU6RMw1I   \n",
       "172  https://www.youtube.com/watch?v=SJ9eangh61s   \n",
       "\n",
       "                                           video_title    video_date  \\\n",
       "37   Ramainya Buka Puasa Bersama Saat Payung Masjid...  Apr 16, 2022   \n",
       "79                                CNN Indonesia - Quiz  Apr 15, 2022   \n",
       "88   CNN Indonesia - Memperingati Wafatnya Isa Almasih  Apr 14, 2022   \n",
       "105  Rusia Klaim Hancurkan Pabrik Produksi Tank di ...  Apr 16, 2022   \n",
       "106  Update Corona 16 April 2022: Bertambah Sebanya...  Apr 16, 2022   \n",
       "117  Kata Kapolri soal Kasus Korban Begal Amaq Sint...  Apr 16, 2022   \n",
       "132  Ratusan Rakyat Yordania Gelar Demonstrasi Keca...  Apr 16, 2022   \n",
       "135  Tuntaskan Misi Luar Angkasa, Astronot Perempua...  Apr 16, 2022   \n",
       "164  Zelensky Minta Uni Eropa Embargo Minyak Rusia:...  Apr 16, 2022   \n",
       "172  Gambar Satelit Terbaru, Konvoi Rusia Terus Ber...  Apr 16, 2022   \n",
       "\n",
       "        view_count like_count  \\\n",
       "37     1,606 views         10   \n",
       "79       486 views          6   \n",
       "88     1,261 views         19   \n",
       "105   24,940 views        234   \n",
       "106    3,460 views              \n",
       "117  111,424 views        797   \n",
       "132   10,262 views        170   \n",
       "135    9,498 views         87   \n",
       "164    8,164 views         53   \n",
       "172   58,423 views        488   \n",
       "\n",
       "                                            video_desc caption  \\\n",
       "37   Masjid Nabawi di Madinah, Arab Saudi menjadi s...       -   \n",
       "79   Live streaming 24 jam: https://www.cnnindonesi...       -   \n",
       "88   The Credits\\n\\nSr. D.O.P: Nugraha\\nProducer: M...       -   \n",
       "105  KYIV, KOMPAS.TV - Pasukan Rusia menghancurkan ...       -   \n",
       "106  JAKARTA, KOMPAS.TV - Satuan Tugas Penanganan C...       -   \n",
       "117  JAKARTA, KOMPAS.TV  Kapolri Jenderal Listyo Si...       -   \n",
       "132  AMMAN, KOMPAS.TV - Ratusan rakyat Yordania tur...       -   \n",
       "135  JAKARTA, KOMPAS.TV - Tiga astronot China kemba...       -   \n",
       "164  KIEV, KOMPAS.TV  Presiden Ukraina Volodymyr Ze...       -   \n",
       "172  JAKARTA, KOMPAS.TV  Maxar Technologies merilis...       -   \n",
       "\n",
       "                                         video_comment          channel_name  \n",
       "37                                                  []  CNNindonesiaOfficial  \n",
       "79   [{'authorDisplayName': 'elisabeth rumiyati', '...  CNNindonesiaOfficial  \n",
       "88   [{'authorDisplayName': 'Albertus Ronald I.B.',...  CNNindonesiaOfficial  \n",
       "105  [{'authorDisplayName': 'Elisabet', 'authorChan...              kompastv  \n",
       "106  [{'authorDisplayName': 'Wong Koclok', 'authorC...              kompastv  \n",
       "117  [{'authorDisplayName': 'silvia dewi', 'authorC...              kompastv  \n",
       "132  [{'authorDisplayName': 'Winda Panjaitan', 'aut...              kompastv  \n",
       "135  [{'authorDisplayName': 'NKRI}★', 'authorChanne...              kompastv  \n",
       "164  [{'authorDisplayName': 'Anto Tok', 'authorChan...              kompastv  \n",
       "172  [{'authorDisplayName': 'HR123', 'authorChannel...              kompastv  "
      ]
     },
     "execution_count": 29,
     "metadata": {},
     "output_type": "execute_result"
    }
   ],
   "source": [
    "no_caption_df = all_data_table[all_data_table['caption'] == '-']\n",
    "no_caption_df"
   ]
  },
  {
   "cell_type": "code",
   "execution_count": 45,
   "id": "metropolitan-filename",
   "metadata": {
    "ExecuteTime": {
     "end_time": "2022-04-14T17:31:17.099031Z",
     "start_time": "2022-04-14T14:45:58.801546Z"
    },
    "code_folding": [],
    "scrolled": true
   },
   "outputs": [],
   "source": [
    "import youtube_dl\n",
    "from tqdm import tqdm\n",
    "\n",
    "\n",
    "for each_link in tqdm(no_caption_df['video_link'].to_list()):\n",
    "    ydl_opts = {\n",
    "        'format': 'bestaudio/best',\n",
    "        'postprocessors': [{\n",
    "            'key': 'FFmpegExtractAudio',\n",
    "            'preferredcodec': 'mp3',\n",
    "            'preferredquality': '192',\n",
    "        }],\n",
    "        'outtmpl': 'data01/' + each_link.split('/www.youtube.com/')[1] + '.mp3'\n",
    "    }\n",
    "    try:\n",
    "        with youtube_dl.YoutubeDL(ydl_opts) as ydl:\n",
    "            dictMeta = ydl.extract_info(each_link,download=False)\n",
    "            if dictMeta['duration'] < 1800:\n",
    "                ydl.download([each_link])\n",
    "    except:\n",
    "        pass"
   ]
  },
  {
   "cell_type": "markdown",
   "id": "duplicate-madonna",
   "metadata": {},
   "source": [
    "### Speech to Text"
   ]
  },
  {
   "cell_type": "markdown",
   "id": "athletic-register",
   "metadata": {},
   "source": [
    "#### Get all mp3 files"
   ]
  },
  {
   "cell_type": "code",
   "execution_count": 31,
   "id": "latin-nowhere",
   "metadata": {
    "ExecuteTime": {
     "end_time": "2022-04-14T17:31:18.548685Z",
     "start_time": "2022-04-14T17:31:18.534144Z"
    },
    "scrolled": true
   },
   "outputs": [
    {
     "data": {
      "text/plain": [
       "['data01/watch#v=J2_bU6RMw1I.mp3',\n",
       " 'data01/watch#v=Jsm2v8PJolc.mp3',\n",
       " 'data01/watch#v=kGrjZPTs81g.mp3',\n",
       " 'data01/watch#v=Kl1OxZ78q0A.mp3',\n",
       " 'data01/watch#v=KSLtrwdiHvM.mp3',\n",
       " 'data01/watch#v=nLayyEK7Joo.mp3',\n",
       " 'data01/watch#v=rpCvEBPUasg.mp3',\n",
       " 'data01/watch#v=SJ9eangh61s.mp3',\n",
       " 'data01/watch#v=yL8jMx6uIeE.mp3',\n",
       " 'data01/watch#v=yQIdRvQCT58.mp3']"
      ]
     },
     "execution_count": 31,
     "metadata": {},
     "output_type": "execute_result"
    }
   ],
   "source": [
    "import requests\n",
    "from os import listdir\n",
    "from os.path import isfile, join\n",
    "\n",
    "mypath = 'C:/Users/hafid/main/projects/data_science/youtube_scraping/data01'\n",
    "onlyfiles = [f for f in listdir(mypath) if isfile(join(mypath, f))]\n",
    "onlyfiles = ['data01/'+i for i in onlyfiles]\n",
    "onlyfiles = [i for i in onlyfiles if '.mp3' in i]\n",
    "onlyfiles"
   ]
  },
  {
   "cell_type": "code",
   "execution_count": 43,
   "id": "58cd8eca",
   "metadata": {
    "scrolled": false
   },
   "outputs": [],
   "source": [
    "import os\n",
    "from tqdm import tqdm\n",
    "import speech_to_text\n",
    "stt = []\n",
    "for each_file in tqdm(onlyfiles):\n",
    "    try:\n",
    "        stt_out = speech_to_text.parse_transcription(each_file)\n",
    "#         print(stt_out)\n",
    "        stt.append(stt_out)\n",
    "    except Exception as e:\n",
    "        print(e)"
   ]
  },
  {
   "cell_type": "code",
   "execution_count": 33,
   "id": "growing-malta",
   "metadata": {
    "ExecuteTime": {
     "end_time": "2022-04-14T20:27:10.588829Z",
     "start_time": "2022-04-14T20:27:10.582241Z"
    },
    "scrolled": true
   },
   "outputs": [
    {
     "data": {
      "text/plain": [
       "10"
      ]
     },
     "execution_count": 33,
     "metadata": {},
     "output_type": "execute_result"
    }
   ],
   "source": [
    "len(stt)"
   ]
  },
  {
   "cell_type": "code",
   "execution_count": 34,
   "id": "cb142040",
   "metadata": {},
   "outputs": [
    {
     "data": {
      "text/plain": [
       "[{'transcription': 'percil', 'file': 'watch#v=J2_bU6RMw1I.mp3'},\n",
       " {'transcription': 'aku belum bisa keluar', 'file': 'watch#v=Jsm2v8PJolc.mp3'},\n",
       " {'transcription': [], 'file': 'watch#v=kGrjZPTs81g.mp3'},\n",
       " {'transcription': [], 'file': 'watch#v=Kl1OxZ78q0A.mp3'},\n",
       " {'transcription': [], 'file': 'watch#v=KSLtrwdiHvM.mp3'},\n",
       " {'transcription': [], 'file': 'watch#v=nLayyEK7Joo.mp3'},\n",
       " {'transcription': [], 'file': 'watch#v=rpCvEBPUasg.mp3'},\n",
       " {'transcription': [], 'file': 'watch#v=SJ9eangh61s.mp3'},\n",
       " {'transcription': [], 'file': 'watch#v=yL8jMx6uIeE.mp3'},\n",
       " {'transcription': [], 'file': 'watch#v=yQIdRvQCT58.mp3'}]"
      ]
     },
     "execution_count": 34,
     "metadata": {},
     "output_type": "execute_result"
    }
   ],
   "source": [
    "stt"
   ]
  },
  {
   "cell_type": "markdown",
   "id": "naughty-essex",
   "metadata": {},
   "source": [
    "#### append all mp3 data that already been converted to text, to the dataframe"
   ]
  },
  {
   "cell_type": "code",
   "execution_count": 35,
   "id": "accessory-reaction",
   "metadata": {
    "ExecuteTime": {
     "end_time": "2022-04-14T20:27:11.927610Z",
     "start_time": "2022-04-14T20:27:11.925070Z"
    }
   },
   "outputs": [],
   "source": [
    "df = all_data_table # creating new dataframe, for comparison later"
   ]
  },
  {
   "cell_type": "code",
   "execution_count": 36,
   "id": "smaller-worse",
   "metadata": {
    "ExecuteTime": {
     "end_time": "2022-04-14T20:27:13.329460Z",
     "start_time": "2022-04-14T20:27:13.314003Z"
    }
   },
   "outputs": [
    {
     "name": "stdout",
     "output_type": "stream",
     "text": [
      "https://www.youtube.com/watch?v=J2_bU6RMw1I\n",
      "https://www.youtube.com/watch?v=Jsm2v8PJolc\n"
     ]
    }
   ],
   "source": [
    "import re\n",
    "for i in stt:\n",
    "    if i['transcription']:\n",
    "        print('https://www.youtube.com/' + i['file'].split('.mp3')[0].replace('#','?'))\n",
    "        locate_link = df['video_link'] == 'https://www.youtube.com/' + i['file'].split('.mp3')[0].replace('#','?')\n",
    "        df.loc[locate_link,['caption']] = i['transcription']"
   ]
  },
  {
   "cell_type": "code",
   "execution_count": 37,
   "id": "coastal-input",
   "metadata": {
    "ExecuteTime": {
     "start_time": "2022-04-15T02:07:33.015Z"
    }
   },
   "outputs": [
    {
     "data": {
      "text/html": [
       "<div>\n",
       "<style scoped>\n",
       "    .dataframe tbody tr th:only-of-type {\n",
       "        vertical-align: middle;\n",
       "    }\n",
       "\n",
       "    .dataframe tbody tr th {\n",
       "        vertical-align: top;\n",
       "    }\n",
       "\n",
       "    .dataframe thead th {\n",
       "        text-align: right;\n",
       "    }\n",
       "</style>\n",
       "<table border=\"1\" class=\"dataframe\">\n",
       "  <thead>\n",
       "    <tr style=\"text-align: right;\">\n",
       "      <th></th>\n",
       "      <th>video_link</th>\n",
       "      <th>video_title</th>\n",
       "      <th>video_date</th>\n",
       "      <th>view_count</th>\n",
       "      <th>like_count</th>\n",
       "      <th>video_desc</th>\n",
       "      <th>caption</th>\n",
       "      <th>video_comment</th>\n",
       "      <th>channel_name</th>\n",
       "    </tr>\n",
       "  </thead>\n",
       "  <tbody>\n",
       "    <tr>\n",
       "      <th>0</th>\n",
       "      <td>https://www.youtube.com/watch?v=Ddy8ONr28Cg</td>\n",
       "      <td>Satu Keluarga di Samarinda Terjebak Kebakaran ...</td>\n",
       "      <td>Apr 17, 2022</td>\n",
       "      <td>329 views</td>\n",
       "      <td>3</td>\n",
       "      <td>Sebuah rumah di Jalan AW Syahrani, Samarinda, ...</td>\n",
       "      <td>Ayo kita akan format selanjutnya dan Hai bye b...</td>\n",
       "      <td>[{'authorDisplayName': '7M FISHING', 'authorCh...</td>\n",
       "      <td>CNNindonesiaOfficial</td>\n",
       "    </tr>\n",
       "    <tr>\n",
       "      <th>1</th>\n",
       "      <td>https://www.youtube.com/watch?v=jQ6VK0hnnMU</td>\n",
       "      <td>Hapus Tato Gratis Saat Ramadahan</td>\n",
       "      <td>Apr 17, 2022</td>\n",
       "      <td>351 views</td>\n",
       "      <td>8</td>\n",
       "      <td>Bagaimana Pelaksanaan Maupun Sejauh Mana Progr...</td>\n",
       "      <td>Hai ini amin amin Terima kasih banyak bapak wa...</td>\n",
       "      <td>[{'authorDisplayName': 'Kevin Candra Dinata', ...</td>\n",
       "      <td>CNNindonesiaOfficial</td>\n",
       "    </tr>\n",
       "    <tr>\n",
       "      <th>2</th>\n",
       "      <td>https://www.youtube.com/watch?v=jKMPfU07MY0</td>\n",
       "      <td>Pasca-Serangan di Al Aqsa</td>\n",
       "      <td>Apr 17, 2022</td>\n",
       "      <td>886 views</td>\n",
       "      <td>8</td>\n",
       "      <td>Bagaimana Perkembangan, Maupun Kondisi Terkini...</td>\n",
       "      <td>Hai Hai terhenti tapi kita keras selalu kalau ...</td>\n",
       "      <td>[{'authorDisplayName': 'Rдmzдй Кдdу́гov 🇷🇺', '...</td>\n",
       "      <td>CNNindonesiaOfficial</td>\n",
       "    </tr>\n",
       "    <tr>\n",
       "      <th>3</th>\n",
       "      <td>https://www.youtube.com/watch?v=tAiR5mrjxe8</td>\n",
       "      <td>Ramadan di Negeri Para Dewa</td>\n",
       "      <td>Apr 17, 2022</td>\n",
       "      <td>653 views</td>\n",
       "      <td>11</td>\n",
       "      <td>Hadirnya Bulan Ramadan Selalu Dinantikan Oleh ...</td>\n",
       "      <td>Hai Terima kasih Anda masih bersama kami soal ...</td>\n",
       "      <td>[{'authorDisplayName': ' Hamas Official حماس '...</td>\n",
       "      <td>CNNindonesiaOfficial</td>\n",
       "    </tr>\n",
       "    <tr>\n",
       "      <th>4</th>\n",
       "      <td>https://www.youtube.com/watch?v=uZbBOmutRhY</td>\n",
       "      <td>Pengamat: Aspirasi Akar Rumput Partai Berbeda ...</td>\n",
       "      <td>Apr 17, 2022</td>\n",
       "      <td>10,946 views</td>\n",
       "      <td>133</td>\n",
       "      <td>Kencang suara arus bawah partai persatuan pemb...</td>\n",
       "      <td>Hai kencang suara arus bawah Partai Hai selama...</td>\n",
       "      <td>[{'authorDisplayName': 'Yogi Purnama', 'author...</td>\n",
       "      <td>CNNindonesiaOfficial</td>\n",
       "    </tr>\n",
       "    <tr>\n",
       "      <th>...</th>\n",
       "      <td>...</td>\n",
       "      <td>...</td>\n",
       "      <td>...</td>\n",
       "      <td>...</td>\n",
       "      <td>...</td>\n",
       "      <td>...</td>\n",
       "      <td>...</td>\n",
       "      <td>...</td>\n",
       "      <td>...</td>\n",
       "    </tr>\n",
       "    <tr>\n",
       "      <th>175</th>\n",
       "      <td>https://www.youtube.com/watch?v=aDc8WYLq3BA</td>\n",
       "      <td>Warga Pademangan Nyaris Saling Pukul Diduga Ak...</td>\n",
       "      <td>Apr 16, 2022</td>\n",
       "      <td>4,510 views</td>\n",
       "      <td>35</td>\n",
       "      <td>JAKARTA, KOMPAS.TV - Sebuah rumah di Pademanga...</td>\n",
       "      <td>di sebuah rumah di Pademangan Jakarta pompa el...</td>\n",
       "      <td>[{'authorDisplayName': 'Vision TV, Anthony dek...</td>\n",
       "      <td>kompastv</td>\n",
       "    </tr>\n",
       "    <tr>\n",
       "      <th>176</th>\n",
       "      <td>https://www.youtube.com/watch?v=EV5YQQr5FPc</td>\n",
       "      <td>Terlibat Kecelakaan Beruntun, Pengendara Motor...</td>\n",
       "      <td>Apr 16, 2022</td>\n",
       "      <td>13,088 views</td>\n",
       "      <td>52</td>\n",
       "      <td>SIDOARJO, KOMPAS.TV - Enam orang terluka, dan ...</td>\n",
       "      <td>enam orang terluka dan empat di ditangani unit...</td>\n",
       "      <td>[{'authorDisplayName': 'someone 089', 'authorC...</td>\n",
       "      <td>kompastv</td>\n",
       "    </tr>\n",
       "    <tr>\n",
       "      <th>177</th>\n",
       "      <td>https://www.youtube.com/watch?v=YI-90fhQgt4</td>\n",
       "      <td>RSUD Dokter Soekardjo Terendam Banjir, Sejumla...</td>\n",
       "      <td>Apr 16, 2022</td>\n",
       "      <td>2,193 views</td>\n",
       "      <td>15</td>\n",
       "      <td>TASIKMALAYA, KOMPAS.TV - Hujan deras yang meng...</td>\n",
       "      <td>hujan deras yang mengguyur wilayah Kota Tasikm...</td>\n",
       "      <td>[{'authorDisplayName': 'tania amalia', 'author...</td>\n",
       "      <td>kompastv</td>\n",
       "    </tr>\n",
       "    <tr>\n",
       "      <th>178</th>\n",
       "      <td>https://www.youtube.com/watch?v=jeIWSbEBRCA</td>\n",
       "      <td>Kampung Cibogo Purwakarta Terendam Banjir Usai...</td>\n",
       "      <td>Apr 16, 2022</td>\n",
       "      <td>1,987 views</td>\n",
       "      <td>15</td>\n",
       "      <td>PURWAKARTA, KOMPAS.TV - Hujan deras yang turun...</td>\n",
       "      <td>hujan deras yang turun sepanjang Jumat terenda...</td>\n",
       "      <td>[{'authorDisplayName': 'Nastain Tain', 'author...</td>\n",
       "      <td>kompastv</td>\n",
       "    </tr>\n",
       "    <tr>\n",
       "      <th>179</th>\n",
       "      <td>https://www.youtube.com/watch?v=MxyBvVtkfgU</td>\n",
       "      <td>7 Fakta Menarik Negara Ukraina</td>\n",
       "      <td>Apr 15, 2022</td>\n",
       "      <td>45,947 views</td>\n",
       "      <td>246</td>\n",
       "      <td>KOMPAS.TV  Perang Rusia Ukraina di tahun 2022 ...</td>\n",
       "      <td>[Musik] [Musik] [Musik] kamu</td>\n",
       "      <td>[{'authorDisplayName': 'Dino Dino', 'authorCha...</td>\n",
       "      <td>kompastv</td>\n",
       "    </tr>\n",
       "  </tbody>\n",
       "</table>\n",
       "<p>180 rows × 9 columns</p>\n",
       "</div>"
      ],
      "text/plain": [
       "                                      video_link  \\\n",
       "0    https://www.youtube.com/watch?v=Ddy8ONr28Cg   \n",
       "1    https://www.youtube.com/watch?v=jQ6VK0hnnMU   \n",
       "2    https://www.youtube.com/watch?v=jKMPfU07MY0   \n",
       "3    https://www.youtube.com/watch?v=tAiR5mrjxe8   \n",
       "4    https://www.youtube.com/watch?v=uZbBOmutRhY   \n",
       "..                                           ...   \n",
       "175  https://www.youtube.com/watch?v=aDc8WYLq3BA   \n",
       "176  https://www.youtube.com/watch?v=EV5YQQr5FPc   \n",
       "177  https://www.youtube.com/watch?v=YI-90fhQgt4   \n",
       "178  https://www.youtube.com/watch?v=jeIWSbEBRCA   \n",
       "179  https://www.youtube.com/watch?v=MxyBvVtkfgU   \n",
       "\n",
       "                                           video_title    video_date  \\\n",
       "0    Satu Keluarga di Samarinda Terjebak Kebakaran ...  Apr 17, 2022   \n",
       "1                     Hapus Tato Gratis Saat Ramadahan  Apr 17, 2022   \n",
       "2                            Pasca-Serangan di Al Aqsa  Apr 17, 2022   \n",
       "3                          Ramadan di Negeri Para Dewa  Apr 17, 2022   \n",
       "4    Pengamat: Aspirasi Akar Rumput Partai Berbeda ...  Apr 17, 2022   \n",
       "..                                                 ...           ...   \n",
       "175  Warga Pademangan Nyaris Saling Pukul Diduga Ak...  Apr 16, 2022   \n",
       "176  Terlibat Kecelakaan Beruntun, Pengendara Motor...  Apr 16, 2022   \n",
       "177  RSUD Dokter Soekardjo Terendam Banjir, Sejumla...  Apr 16, 2022   \n",
       "178  Kampung Cibogo Purwakarta Terendam Banjir Usai...  Apr 16, 2022   \n",
       "179                     7 Fakta Menarik Negara Ukraina  Apr 15, 2022   \n",
       "\n",
       "       view_count like_count  \\\n",
       "0       329 views          3   \n",
       "1       351 views          8   \n",
       "2       886 views          8   \n",
       "3       653 views         11   \n",
       "4    10,946 views        133   \n",
       "..            ...        ...   \n",
       "175   4,510 views         35   \n",
       "176  13,088 views         52   \n",
       "177   2,193 views         15   \n",
       "178   1,987 views         15   \n",
       "179  45,947 views        246   \n",
       "\n",
       "                                            video_desc  \\\n",
       "0    Sebuah rumah di Jalan AW Syahrani, Samarinda, ...   \n",
       "1    Bagaimana Pelaksanaan Maupun Sejauh Mana Progr...   \n",
       "2    Bagaimana Perkembangan, Maupun Kondisi Terkini...   \n",
       "3    Hadirnya Bulan Ramadan Selalu Dinantikan Oleh ...   \n",
       "4    Kencang suara arus bawah partai persatuan pemb...   \n",
       "..                                                 ...   \n",
       "175  JAKARTA, KOMPAS.TV - Sebuah rumah di Pademanga...   \n",
       "176  SIDOARJO, KOMPAS.TV - Enam orang terluka, dan ...   \n",
       "177  TASIKMALAYA, KOMPAS.TV - Hujan deras yang meng...   \n",
       "178  PURWAKARTA, KOMPAS.TV - Hujan deras yang turun...   \n",
       "179  KOMPAS.TV  Perang Rusia Ukraina di tahun 2022 ...   \n",
       "\n",
       "                                               caption  \\\n",
       "0    Ayo kita akan format selanjutnya dan Hai bye b...   \n",
       "1    Hai ini amin amin Terima kasih banyak bapak wa...   \n",
       "2    Hai Hai terhenti tapi kita keras selalu kalau ...   \n",
       "3    Hai Terima kasih Anda masih bersama kami soal ...   \n",
       "4    Hai kencang suara arus bawah Partai Hai selama...   \n",
       "..                                                 ...   \n",
       "175  di sebuah rumah di Pademangan Jakarta pompa el...   \n",
       "176  enam orang terluka dan empat di ditangani unit...   \n",
       "177  hujan deras yang mengguyur wilayah Kota Tasikm...   \n",
       "178  hujan deras yang turun sepanjang Jumat terenda...   \n",
       "179                      [Musik] [Musik] [Musik] kamu    \n",
       "\n",
       "                                         video_comment          channel_name  \n",
       "0    [{'authorDisplayName': '7M FISHING', 'authorCh...  CNNindonesiaOfficial  \n",
       "1    [{'authorDisplayName': 'Kevin Candra Dinata', ...  CNNindonesiaOfficial  \n",
       "2    [{'authorDisplayName': 'Rдmzдй Кдdу́гov 🇷🇺', '...  CNNindonesiaOfficial  \n",
       "3    [{'authorDisplayName': ' Hamas Official حماس '...  CNNindonesiaOfficial  \n",
       "4    [{'authorDisplayName': 'Yogi Purnama', 'author...  CNNindonesiaOfficial  \n",
       "..                                                 ...                   ...  \n",
       "175  [{'authorDisplayName': 'Vision TV, Anthony dek...              kompastv  \n",
       "176  [{'authorDisplayName': 'someone 089', 'authorC...              kompastv  \n",
       "177  [{'authorDisplayName': 'tania amalia', 'author...              kompastv  \n",
       "178  [{'authorDisplayName': 'Nastain Tain', 'author...              kompastv  \n",
       "179  [{'authorDisplayName': 'Dino Dino', 'authorCha...              kompastv  \n",
       "\n",
       "[180 rows x 9 columns]"
      ]
     },
     "execution_count": 37,
     "metadata": {},
     "output_type": "execute_result"
    }
   ],
   "source": [
    "df"
   ]
  },
  {
   "cell_type": "code",
   "execution_count": 38,
   "id": "perceived-straight",
   "metadata": {
    "ExecuteTime": {
     "end_time": "2022-04-14T20:27:16.175355Z",
     "start_time": "2022-04-14T20:27:16.167124Z"
    }
   },
   "outputs": [],
   "source": [
    "df.drop(df[df['caption'] == '-' ].index, inplace=True)"
   ]
  },
  {
   "cell_type": "code",
   "execution_count": 39,
   "id": "personal-wholesale",
   "metadata": {
    "ExecuteTime": {
     "start_time": "2022-04-15T02:09:44.569Z"
    }
   },
   "outputs": [
    {
     "name": "stdout",
     "output_type": "stream",
     "text": [
      "There is 172/180 data after speech to text!\n"
     ]
    }
   ],
   "source": [
    "print(f'There is {len(df)}/{len(links)} data after speech to text!')"
   ]
  },
  {
   "cell_type": "code",
   "execution_count": 40,
   "id": "worse-tiger",
   "metadata": {
    "ExecuteTime": {
     "end_time": "2022-04-14T20:27:17.673007Z",
     "start_time": "2022-04-14T20:27:17.531071Z"
    }
   },
   "outputs": [],
   "source": [
    "save = f'data_yt_harian_{date_time}.json'\n",
    "with open(save,'w') as f:\n",
    "    json.dump(df.to_dict('records'),f)"
   ]
  },
  {
   "cell_type": "code",
   "execution_count": 41,
   "id": "filled-cocktail",
   "metadata": {
    "ExecuteTime": {
     "end_time": "2022-04-14T20:27:19.779394Z",
     "start_time": "2022-04-14T20:27:19.027679Z"
    }
   },
   "outputs": [],
   "source": [
    "bot_msg_hafidz(f'Youtube crawl local done, link: C:/Users/hafid/main/projects/data_science/youtube_scraping/{save}')"
   ]
  },
  {
   "cell_type": "code",
   "execution_count": 44,
   "id": "5305b03e",
   "metadata": {},
   "outputs": [],
   "source": [
    "dir = 'C:/Users/hafid/main/projects/data_science/youtube_scraping/data01'\n",
    "for f in os.listdir(dir):\n",
    "    try:\n",
    "        os.remove(os.path.join(dir, f))\n",
    "    except:\n",
    "        pass"
   ]
  },
  {
   "cell_type": "markdown",
   "id": "suburban-silence",
   "metadata": {},
   "source": [
    "### Caption Sentiment Classification"
   ]
  },
  {
   "cell_type": "code",
   "execution_count": null,
   "id": "a8cdb0af",
   "metadata": {},
   "outputs": [],
   "source": [
    "# Under Construction"
   ]
  },
  {
   "cell_type": "code",
   "execution_count": null,
   "id": "authorized-scottish",
   "metadata": {
    "ExecuteTime": {
     "end_time": "2022-03-09T10:40:52.556010Z",
     "start_time": "2022-03-09T10:40:52.193167Z"
    }
   },
   "outputs": [],
   "source": [
    "# import pandas as pd\n",
    "# with open(save) as f:\n",
    "#     df= json.load(f)\n",
    "# pd.DataFrame(df)"
   ]
  },
  {
   "cell_type": "code",
   "execution_count": null,
   "id": "cardiac-berkeley",
   "metadata": {
    "ExecuteTime": {
     "end_time": "2022-02-22T13:11:50.481502Z",
     "start_time": "2022-02-22T13:09:01.664524Z"
    }
   },
   "outputs": [],
   "source": [
    "# caption_sentiment = []\n",
    "# for i in df['caption']:\n",
    "#     sentiment = requests.post(\"http://172.17.61.220:8601/sentiment-batch\", json = {'texts':[i]})\n",
    "#     caption_sentiment.append(sentiment.json()['results'][0]['sentiment'])                                                                                                                                                  "
   ]
  },
  {
   "cell_type": "code",
   "execution_count": null,
   "id": "cubic-tribute",
   "metadata": {
    "ExecuteTime": {
     "end_time": "2022-02-22T13:11:59.247679Z",
     "start_time": "2022-02-22T13:11:59.241037Z"
    }
   },
   "outputs": [],
   "source": [
    "# df['caption_sentiment'] = caption_sentiment"
   ]
  },
  {
   "cell_type": "code",
   "execution_count": null,
   "id": "interstate-stability",
   "metadata": {
    "ExecuteTime": {
     "end_time": "2022-02-22T13:12:08.197236Z",
     "start_time": "2022-02-22T13:12:08.154060Z"
    }
   },
   "outputs": [],
   "source": [
    "# df"
   ]
  },
  {
   "cell_type": "code",
   "execution_count": null,
   "id": "aerial-quebec",
   "metadata": {},
   "outputs": [],
   "source": [
    "# with open('data_yt_caption_lengkap_sentiment_24-02-2022.json','w') as f:\n",
    "#     json.dump(df.to_dict('records'),f)"
   ]
  }
 ],
 "metadata": {
  "kernelspec": {
   "display_name": "datascience",
   "language": "python",
   "name": "datascience"
  },
  "language_info": {
   "codemirror_mode": {
    "name": "ipython",
    "version": 3
   },
   "file_extension": ".py",
   "mimetype": "text/x-python",
   "name": "python",
   "nbconvert_exporter": "python",
   "pygments_lexer": "ipython3",
   "version": "3.10.1"
  },
  "varInspector": {
   "cols": {
    "lenName": 16,
    "lenType": 16,
    "lenVar": 40
   },
   "kernels_config": {
    "python": {
     "delete_cmd_postfix": "",
     "delete_cmd_prefix": "del ",
     "library": "var_list.py",
     "varRefreshCmd": "print(var_dic_list())"
    },
    "r": {
     "delete_cmd_postfix": ") ",
     "delete_cmd_prefix": "rm(",
     "library": "var_list.r",
     "varRefreshCmd": "cat(var_dic_list()) "
    }
   },
   "types_to_exclude": [
    "module",
    "function",
    "builtin_function_or_method",
    "instance",
    "_Feature"
   ],
   "window_display": false
  }
 },
 "nbformat": 4,
 "nbformat_minor": 5
}
